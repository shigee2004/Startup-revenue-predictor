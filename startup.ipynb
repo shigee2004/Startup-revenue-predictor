{
  "nbformat": 4,
  "nbformat_minor": 0,
  "metadata": {
    "colab": {
      "provenance": [],
      "authorship_tag": "ABX9TyMEc/P3lnv6VvfKq3Gr4Xk/",
      "include_colab_link": true
    },
    "kernelspec": {
      "name": "python3",
      "display_name": "Python 3"
    },
    "language_info": {
      "name": "python"
    }
  },
  "cells": [
    {
      "cell_type": "markdown",
      "metadata": {
        "id": "view-in-github",
        "colab_type": "text"
      },
      "source": [
        "<a href=\"https://colab.research.google.com/github/shigee2004/Startup-revenue-predictor/blob/main/startup.ipynb\" target=\"_parent\"><img src=\"https://colab.research.google.com/assets/colab-badge.svg\" alt=\"Open In Colab\"/></a>"
      ]
    },
    {
      "cell_type": "code",
      "execution_count": null,
      "metadata": {
        "colab": {
          "base_uri": "https://localhost:8080/"
        },
        "id": "A0PUxFRmVFQK",
        "outputId": "ff83777c-c583-4095-997a-c609af193acf",
        "collapsed": true
      },
      "outputs": [
        {
          "output_type": "execute_result",
          "data": {
            "text/plain": [
              "['.config',\n",
              " 'Preprocessed_time_series_data.csv',\n",
              " 'lstm_funding_model.keras',\n",
              " 'xgboost_startup_model_v3.json',\n",
              " 'preprocessed_startup_dataset.csv',\n",
              " 'sample_data']"
            ]
          },
          "metadata": {},
          "execution_count": 1
        }
      ],
      "source": [
        "import numpy as np\n",
        "import pandas as pd\n",
        "from tensorflow.keras.models import load_model\n",
        "import joblib\n",
        "import xgboost as xgb\n",
        "from sklearn.preprocessing import StandardScaler, MinMaxScaler\n",
        "import os\n",
        "os.listdir()\n"
      ]
    },
    {
      "cell_type": "code",
      "source": [
        "lstm_model = load_model(\"lstm_funding_model.keras\")\n",
        "xgb_model = xgb.Booster()\n",
        "xgb_model.load_model(\"xgboost_startup_model_v3.json\")\n"
      ],
      "metadata": {
        "id": "yNAc6dzRYFDX"
      },
      "execution_count": null,
      "outputs": []
    },
    {
      "cell_type": "code",
      "source": [
        "# Load and preprocess the LSTM input data\n",
        "df_lstm = pd.read_csv(\"Preprocessed_time_series_data.csv\")\n"
      ],
      "metadata": {
        "id": "mA1k4U2PYJ-s"
      },
      "execution_count": null,
      "outputs": []
    },
    {
      "cell_type": "code",
      "source": [
        "# Define LSTM features\n",
        "lstm_features = [\"Funding Amount (M$)\", \"Number of Investors\", \"Investor Reputation\",\n",
        "                 \"Economic Indicator\", \"Sector Growth Rate (%)\", \"Estimated Valuation (M$)\"]\n"
      ],
      "metadata": {
        "id": "g0df6gT9YPMS"
      },
      "execution_count": null,
      "outputs": []
    },
    {
      "cell_type": "code",
      "source": [
        "# Normalize using same scaling approach as training\n",
        "lstm_scaler = MinMaxScaler()\n",
        "df_lstm[lstm_features] = lstm_scaler.fit_transform(df_lstm[lstm_features])\n"
      ],
      "metadata": {
        "id": "R03-tgA6YSvH"
      },
      "execution_count": null,
      "outputs": []
    },
    {
      "cell_type": "code",
      "source": [
        "\n",
        "# Sequence creation for LSTM\n",
        "def create_sequences(data, seq_length=12):\n",
        "    X = []\n",
        "    for i in range(len(data) - seq_length):\n",
        "        X.append(data[i:i + seq_length])\n",
        "    return np.array(X)\n"
      ],
      "metadata": {
        "id": "NGg1KlIkYW4G"
      },
      "execution_count": null,
      "outputs": []
    },
    {
      "cell_type": "code",
      "source": [
        "X_lstm_seq = create_sequences(df_lstm[lstm_features].values)\n"
      ],
      "metadata": {
        "id": "wWh0WCajYaPA"
      },
      "execution_count": null,
      "outputs": []
    },
    {
      "cell_type": "code",
      "source": [
        "# Get the last prediction from LSTM (simulate latest future funding prediction)\n",
        "lstm_prediction = lstm_model.predict(X_lstm_seq[-1:])[0][0]"
      ],
      "metadata": {
        "colab": {
          "base_uri": "https://localhost:8080/"
        },
        "id": "FyykyCfDYdWO",
        "outputId": "221150c0-e220-4dc2-dc98-2d7b7d436c33",
        "collapsed": true
      },
      "execution_count": null,
      "outputs": [
        {
          "output_type": "stream",
          "name": "stdout",
          "text": [
            "\u001b[1m1/1\u001b[0m \u001b[32m━━━━━━━━━━━━━━━━━━━━\u001b[0m\u001b[37m\u001b[0m \u001b[1m0s\u001b[0m 420ms/step\n"
          ]
        }
      ]
    },
    {
      "cell_type": "code",
      "source": [
        "# A single funding prediction\n",
        "\n",
        "print(f\"LSTM Predicted Funding (M$): {lstm_prediction:.4f}\")\n",
        "\n"
      ],
      "metadata": {
        "colab": {
          "base_uri": "https://localhost:8080/"
        },
        "id": "5b62JYG3Yk60",
        "outputId": "e7c2d377-0df6-4348-8ffc-9e8c70316185",
        "collapsed": true
      },
      "execution_count": null,
      "outputs": [
        {
          "output_type": "stream",
          "name": "stdout",
          "text": [
            "LSTM Predicted Funding (M$): 0.3421\n"
          ]
        }
      ]
    },
    {
      "cell_type": "code",
      "source": [
        "# Load and preprocess XGBoost input data\n",
        "df_xgb = pd.read_csv(\"preprocessed_startup_dataset.csv\")\n",
        "\n",
        "# Print the columns of the XGBoost input data (df_xgb)\n",
        "print(df_xgb.columns.tolist())"
      ],
      "metadata": {
        "colab": {
          "base_uri": "https://localhost:8080/"
        },
        "id": "XFN3SIaUZDoE",
        "outputId": "e1d8aac6-6143-4c11-a303-0f2c11fd2457",
        "collapsed": true
      },
      "execution_count": null,
      "outputs": [
        {
          "output_type": "stream",
          "name": "stdout",
          "text": [
            "['Startup Name', 'Total Funding (M$)', 'Number of Investors', 'Investor Reputation', 'Growth Rate (%)', 'Revenue (M$)', 'Market Size', 'Years Since Founded', 'Success Score', 'Industry_AgriTech', 'Industry_Autonomous Vehicles', 'Industry_Cybersecurity', 'Industry_EdTech', 'Industry_FinTech', 'Industry_GreenTech', 'Industry_Healthcare', 'Industry_Quantum Computing']\n"
          ]
        }
      ]
    },
    {
      "cell_type": "code",
      "source": [
        "# Load and preprocess XGBoost input data\n",
        "df_xgb = pd.read_csv(\"preprocessed_startup_dataset.csv\")\n",
        "\n",
        "# Print the columns of the XGBoost input data (df_xgb)\n",
        "print(df_xgb.columns.tolist())\n",
        "\n",
        "# Assuming you want to use a single row for prediction with XGBoost,\n",
        "# you need to create a sample DataFrame, potentially from df_xgb\n",
        "# For example, let's take the first row of df_xgb as a sample:\n",
        "xgb_sample = df_xgb.iloc[[0]].copy()  # Create a copy to avoid modifying the original df_xgb\n",
        "\n",
        "# Now you can assign the LSTM prediction to the 'Predicted Funding (M$)' column\n",
        "xgb_sample[\"Predicted Funding (M$)\"] = lstm_prediction"
      ],
      "metadata": {
        "colab": {
          "base_uri": "https://localhost:8080/"
        },
        "id": "pJfyUbkeZcHc",
        "outputId": "9d1994b0-b6a5-4504-9754-5d8929eea9fb",
        "collapsed": true
      },
      "execution_count": null,
      "outputs": [
        {
          "output_type": "stream",
          "name": "stdout",
          "text": [
            "['Startup Name', 'Total Funding (M$)', 'Number of Investors', 'Investor Reputation', 'Growth Rate (%)', 'Revenue (M$)', 'Market Size', 'Years Since Founded', 'Success Score', 'Industry_AgriTech', 'Industry_Autonomous Vehicles', 'Industry_Cybersecurity', 'Industry_EdTech', 'Industry_FinTech', 'Industry_GreenTech', 'Industry_Healthcare', 'Industry_Quantum Computing']\n"
          ]
        }
      ]
    },
    {
      "cell_type": "code",
      "source": [
        "\n",
        "['Startup Name', 'Total Funding (M$)', 'Number of Investors', 'Investor Reputation', 'Growth Rate (%)', 'Revenue (M$)', 'Market Size', 'Years Since Founded', 'Success Score', 'Industry_AgriTech', 'Industry_Autonomous Vehicles', 'Industry_Cybersecurity', 'Industry_EdTech', 'Industry_FinTech', 'Industry_GreenTech', 'Industry_Healthcare', 'Industry_Quantum Computing', 'Predicted Funding (M$)']\n"
      ],
      "metadata": {
        "colab": {
          "base_uri": "https://localhost:8080/"
        },
        "id": "CmF-MkXMZgBL",
        "outputId": "19b630e5-026e-406d-a127-4fb48f6d2910",
        "collapsed": true
      },
      "execution_count": null,
      "outputs": [
        {
          "output_type": "execute_result",
          "data": {
            "text/plain": [
              "['Startup Name',\n",
              " 'Total Funding (M$)',\n",
              " 'Number of Investors',\n",
              " 'Investor Reputation',\n",
              " 'Growth Rate (%)',\n",
              " 'Revenue (M$)',\n",
              " 'Market Size',\n",
              " 'Years Since Founded',\n",
              " 'Success Score',\n",
              " 'Industry_AgriTech',\n",
              " 'Industry_Autonomous Vehicles',\n",
              " 'Industry_Cybersecurity',\n",
              " 'Industry_EdTech',\n",
              " 'Industry_FinTech',\n",
              " 'Industry_GreenTech',\n",
              " 'Industry_Healthcare',\n",
              " 'Industry_Quantum Computing',\n",
              " 'Predicted Funding (M$)']"
            ]
          },
          "metadata": {},
          "execution_count": 16
        }
      ]
    },
    {
      "cell_type": "code",
      "source": [
        "# Define training features (excluding non-numeric and target)\n",
        "features_used = [\n",
        "    'Total Funding (M$)',\n",
        "    'Number of Investors',\n",
        "    'Investor Reputation',\n",
        "    'Growth Rate (%)',\n",
        "    'Revenue (M$)',\n",
        "    'Market Size',\n",
        "    'Years Since Founded',\n",
        "    'Success Score',\n",
        "    'Industry_AgriTech',\n",
        "    'Industry_Autonomous Vehicles',\n",
        "    'Industry_Cybersecurity',\n",
        "    'Industry_EdTech',\n",
        "    'Industry_FinTech',\n",
        "    'Industry_GreenTech',\n",
        "    'Industry_Healthcare',\n",
        "    'Industry_Quantum Computing'\n",
        "]\n"
      ],
      "metadata": {
        "id": "3sy5wUaxZstW"
      },
      "execution_count": null,
      "outputs": []
    },
    {
      "cell_type": "code",
      "source": [
        "\n",
        "# Just in case, validate against actual columns in the DataFrame\n",
        "valid_features = [col for col in features_used if col in xgb_sample.columns]\n",
        "\n",
        "# Print and double-check\n",
        "print(\"✅ Valid features being used:\", valid_features)\n"
      ],
      "metadata": {
        "colab": {
          "base_uri": "https://localhost:8080/"
        },
        "id": "xyT6GZNnZxGU",
        "outputId": "d27a19de-84f5-4b3f-8fbe-02ac83aa7ec6",
        "collapsed": true
      },
      "execution_count": null,
      "outputs": [
        {
          "output_type": "stream",
          "name": "stdout",
          "text": [
            "✅ Valid features being used: ['Total Funding (M$)', 'Number of Investors', 'Investor Reputation', 'Growth Rate (%)', 'Revenue (M$)', 'Market Size', 'Years Since Founded', 'Success Score', 'Industry_AgriTech', 'Industry_Autonomous Vehicles', 'Industry_Cybersecurity', 'Industry_EdTech', 'Industry_FinTech', 'Industry_GreenTech', 'Industry_Healthcare', 'Industry_Quantum Computing']\n"
          ]
        }
      ]
    },
    {
      "cell_type": "code",
      "source": [
        "# Filter the DataFrame\n",
        "xgb_sample_filtered = xgb_sample[valid_features]\n",
        "\n",
        "# Predict\n",
        "dtest = xgb.DMatrix(xgb_sample_filtered)\n",
        "predictions = xgb_model.predict(dtest)\n",
        "\n"
      ],
      "metadata": {
        "id": "kbSJvGENZ2J-"
      },
      "execution_count": null,
      "outputs": []
    },
    {
      "cell_type": "code",
      "source": [
        "\n",
        "# Optional: Add predictions back to DataFrame\n",
        "xgb_sample['Predicted Funding (M$)'] = predictions\n"
      ],
      "metadata": {
        "id": "P7nWhqaZZ5Nk"
      },
      "execution_count": null,
      "outputs": []
    },
    {
      "cell_type": "code",
      "source": [
        "print(\"✅ Predictions added to DataFrame!\")\n",
        "\n"
      ],
      "metadata": {
        "colab": {
          "base_uri": "https://localhost:8080/"
        },
        "id": "CwW78Je6Z8iD",
        "outputId": "1364b1e8-f46f-4885-adc0-042e836b2db7",
        "collapsed": true
      },
      "execution_count": null,
      "outputs": [
        {
          "output_type": "stream",
          "name": "stdout",
          "text": [
            "✅ Predictions added to DataFrame!\n"
          ]
        }
      ]
    },
    {
      "cell_type": "code",
      "source": [
        "# Reuse filtered features\n",
        "dtest = xgb.DMatrix(xgb_sample_filtered)\n",
        "\n",
        "# Predict revenue\n",
        "predicted_revenue = xgb_model.predict(dtest)[0]\n",
        "\n",
        "print(f\"Final Predicted Revenue (M$) using hybrid model: {predicted_revenue:.4f}\")\n"
      ],
      "metadata": {
        "colab": {
          "base_uri": "https://localhost:8080/"
        },
        "id": "x5y4hjTvZ_8S",
        "outputId": "3cc2d76f-052b-4811-9f24-876bae4d3ac6",
        "collapsed": true
      },
      "execution_count": null,
      "outputs": [
        {
          "output_type": "stream",
          "name": "stdout",
          "text": [
            "Final Predicted Revenue (M$) using hybrid model: 2.2648\n"
          ]
        }
      ]
    },
    {
      "cell_type": "code",
      "source": [
        "import pandas as pd\n",
        "import xgboost as xgb\n",
        "import joblib\n"
      ],
      "metadata": {
        "id": "pqVoxCkhaDpf"
      },
      "execution_count": null,
      "outputs": []
    },
    {
      "cell_type": "code",
      "source": [
        "\n",
        "# Load the XGBoost model\n",
        "xgb_model = xgb.Booster()\n",
        "xgb_model.load_model(\"xgboost_startup_model_v3.json\")\n"
      ],
      "metadata": {
        "id": "mJ9voWHxaHyV"
      },
      "execution_count": null,
      "outputs": []
    },
    {
      "cell_type": "code",
      "source": [
        "# Define expected features\n",
        "features_used = [\n",
        "    'Total Funding (M$)', 'Number of Investors', 'Investor Reputation',\n",
        "    'Growth Rate (%)', 'Revenue (M$)', 'Market Size', 'Years Since Founded',\n",
        "    'Success Score', 'Industry_AgriTech', 'Industry_Autonomous Vehicles',\n",
        "    'Industry_Cybersecurity', 'Industry_EdTech', 'Industry_FinTech',\n",
        "    'Industry_GreenTech', 'Industry_Healthcare', 'Industry_Quantum Computing'\n",
        "]\n",
        "\n"
      ],
      "metadata": {
        "id": "NQisqit_aLQ9"
      },
      "execution_count": null,
      "outputs": []
    },
    {
      "cell_type": "code",
      "source": [
        "# Prompt user input\n",
        "print(\"Please enter the following startup details:\\n\")\n",
        "\n",
        "user_input = {\n",
        "    'Total Funding (M$)': float(input(\"Total Funding (in M$): \")),\n",
        "    'Number of Investors': int(input(\"Number of Investors: \")),\n",
        "    'Investor Reputation': float(input(\"Investor Reputation (0-10): \")),\n",
        "    'Growth Rate (%)': float(input(\"Growth Rate (%): \")),\n",
        "    'Revenue (M$)': float(input(\"Current Revenue (in M$): \")),\n",
        "    'Market Size': float(input(\"Market Size (in M$): \")),\n",
        "    'Years Since Founded': int(input(\"Years Since Founded: \")),\n",
        "    'Success Score': float(input(\"Success Score (0-100): \"))\n",
        "}\n"
      ],
      "metadata": {
        "colab": {
          "base_uri": "https://localhost:8080/"
        },
        "id": "jc3juz9PaOZ-",
        "outputId": "cc10d271-8d33-432b-c855-8b24f21e1383",
        "collapsed": true
      },
      "execution_count": null,
      "outputs": [
        {
          "name": "stdout",
          "output_type": "stream",
          "text": [
            "Please enter the following startup details:\n",
            "\n",
            "Total Funding (in M$): 50000\n",
            "Number of Investors: 7\n",
            "Investor Reputation (0-10): 6\n",
            "Growth Rate (%): 8\n",
            "Current Revenue (in M$): 45000\n",
            "Market Size (in M$): 6\n",
            "Years Since Founded: 4\n",
            "Success Score (0-100): 79\n"
          ]
        }
      ]
    },
    {
      "cell_type": "code",
      "source": [
        "# Industry selection (one-hot encoding)\n",
        "industries = [\n",
        "    'AgriTech', 'Autonomous Vehicles', 'Cybersecurity', 'EdTech',\n",
        "    'FinTech', 'GreenTech', 'Healthcare', 'Quantum Computing'\n",
        "]\n",
        "\n",
        "print(\"\\nSelect Industry from the following:\")\n",
        "for idx, name in enumerate(industries):\n",
        "    print(f\"{idx + 1}. {name}\")\n"
      ],
      "metadata": {
        "colab": {
          "base_uri": "https://localhost:8080/"
        },
        "id": "UNsmkg4pabLJ",
        "outputId": "f2552ca3-a17f-4cb3-9c3a-cdbb8f47d4d9",
        "collapsed": true
      },
      "execution_count": null,
      "outputs": [
        {
          "output_type": "stream",
          "name": "stdout",
          "text": [
            "\n",
            "Select Industry from the following:\n",
            "1. AgriTech\n",
            "2. Autonomous Vehicles\n",
            "3. Cybersecurity\n",
            "4. EdTech\n",
            "5. FinTech\n",
            "6. GreenTech\n",
            "7. Healthcare\n",
            "8. Quantum Computing\n"
          ]
        }
      ]
    },
    {
      "cell_type": "code",
      "source": [
        "industry_choice = int(input(\"Enter the number corresponding to the industry: \"))\n",
        "\n",
        "# One-hot encode industries\n",
        "for i, industry in enumerate(industries):\n",
        "    key = f'Industry_{industry}'\n",
        "    user_input[key] = 1 if (i + 1) == industry_choice else 0\n",
        "\n",
        "# Create input DataFrame\n",
        "input_df = pd.DataFrame([user_input])\n",
        "\n",
        "# Predict\n",
        "dtest = xgb.DMatrix(input_df[features_used])\n",
        "predicted_revenue = xgb_model.predict(dtest)[0]\n",
        "\n",
        "print(f\"\\n✅ Final Predicted Revenue (M$): {predicted_revenue:.4f}\")"
      ],
      "metadata": {
        "colab": {
          "base_uri": "https://localhost:8080/"
        },
        "id": "UaU8TuNvaf7j",
        "outputId": "25c1498d-ec3f-4ac7-bb5f-86207379ff64",
        "collapsed": true
      },
      "execution_count": null,
      "outputs": [
        {
          "output_type": "stream",
          "name": "stdout",
          "text": [
            "Enter the number corresponding to the industry: 5\n",
            "\n",
            "✅ Final Predicted Revenue (M$): 2.8155\n"
          ]
        }
      ]
    }
  ]
}